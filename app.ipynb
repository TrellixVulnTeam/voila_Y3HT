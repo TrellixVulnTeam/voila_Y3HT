{
 "cells": [
  {
   "cell_type": "code",
   "execution_count": 157,
   "id": "479070d5",
   "metadata": {},
   "outputs": [],
   "source": [
    "import pandas as pd \n",
    "import numpy as np \n",
    "from matplotlib import pyplot as plt \n",
    "%matplotlib inline\n",
    "import matplotlib\n",
    "matplotlib.rcParams['figure.figsize'] = (20, 10)\n",
    "def warn(*args, **kwargs):\n",
    "    pass\n",
    "import warnings\n",
    "warnings.warn = warn"
   ]
  },
  {
   "cell_type": "code",
   "execution_count": 227,
   "id": "5f87eb29",
   "metadata": {},
   "outputs": [],
   "source": [
    "# do not show scientific notation\n",
    "pd.set_option('display.float_format', lambda x: '%.5f' % x)\n",
    "pd.set_option('display.max_columns', None)"
   ]
  },
  {
   "cell_type": "markdown",
   "id": "6fe7a787",
   "metadata": {},
   "source": [
    "# Welcome to Home Price Prediction Application: A Capstone Project"
   ]
  },
  {
   "cell_type": "markdown",
   "id": "4c2c87dd",
   "metadata": {},
   "source": [
    "This application allows users to predict home prices by modifying common features such as number of bedrooms or bathrooms, location, square feet, number of balconies, and acreage. Underneath the application is a machine learning algorithm - linear regression - that takes in inputs and spits out results. At the bottom of this page, you will see the interactive widget, with which you will be able to modify parameters to predict home prices. "
   ]
  },
  {
   "cell_type": "markdown",
   "id": "e534c10b",
   "metadata": {},
   "source": [
    "### A Preview of Data"
   ]
  },
  {
   "cell_type": "code",
   "execution_count": 497,
   "id": "e3d44779",
   "metadata": {
    "scrolled": true
   },
   "outputs": [],
   "source": [
    "df1 = pd.read_csv('realtor-data.csv')"
   ]
  },
  {
   "cell_type": "code",
   "execution_count": 498,
   "id": "158b9975",
   "metadata": {},
   "outputs": [],
   "source": [
    "df2 = df1.dropna()"
   ]
  },
  {
   "cell_type": "code",
   "execution_count": 499,
   "id": "8c13920f",
   "metadata": {},
   "outputs": [
    {
     "data": {
      "text/html": [
       "<div>\n",
       "<style scoped>\n",
       "    .dataframe tbody tr th:only-of-type {\n",
       "        vertical-align: middle;\n",
       "    }\n",
       "\n",
       "    .dataframe tbody tr th {\n",
       "        vertical-align: top;\n",
       "    }\n",
       "\n",
       "    .dataframe thead th {\n",
       "        text-align: right;\n",
       "    }\n",
       "</style>\n",
       "<table border=\"1\" class=\"dataframe\">\n",
       "  <thead>\n",
       "    <tr style=\"text-align: right;\">\n",
       "      <th></th>\n",
       "      <th>price</th>\n",
       "      <th>size</th>\n",
       "      <th>bath</th>\n",
       "      <th>balcony</th>\n",
       "      <th>acre_lot</th>\n",
       "      <th>location</th>\n",
       "      <th>total_sqft</th>\n",
       "      <th>price_per_sqft</th>\n",
       "    </tr>\n",
       "  </thead>\n",
       "  <tbody>\n",
       "    <tr>\n",
       "      <th>0</th>\n",
       "      <td>149000</td>\n",
       "      <td>3.00000</td>\n",
       "      <td>2.00000</td>\n",
       "      <td>1</td>\n",
       "      <td>1.26000</td>\n",
       "      <td>Abbot</td>\n",
       "      <td>1792.00000</td>\n",
       "      <td>83.14732</td>\n",
       "    </tr>\n",
       "    <tr>\n",
       "      <th>1</th>\n",
       "      <td>425000</td>\n",
       "      <td>4.00000</td>\n",
       "      <td>2.00000</td>\n",
       "      <td>1</td>\n",
       "      <td>91.00000</td>\n",
       "      <td>Abbot</td>\n",
       "      <td>1600.00000</td>\n",
       "      <td>265.62500</td>\n",
       "    </tr>\n",
       "    <tr>\n",
       "      <th>5</th>\n",
       "      <td>425000</td>\n",
       "      <td>4.00000</td>\n",
       "      <td>2.00000</td>\n",
       "      <td>0</td>\n",
       "      <td>91.00000</td>\n",
       "      <td>Abbot</td>\n",
       "      <td>1600.00000</td>\n",
       "      <td>265.62500</td>\n",
       "    </tr>\n",
       "    <tr>\n",
       "      <th>11</th>\n",
       "      <td>495000</td>\n",
       "      <td>3.00000</td>\n",
       "      <td>4.00000</td>\n",
       "      <td>2</td>\n",
       "      <td>0.16000</td>\n",
       "      <td>Aberdeen</td>\n",
       "      <td>2146.00000</td>\n",
       "      <td>230.66170</td>\n",
       "    </tr>\n",
       "    <tr>\n",
       "      <th>13</th>\n",
       "      <td>499900</td>\n",
       "      <td>4.00000</td>\n",
       "      <td>3.00000</td>\n",
       "      <td>1</td>\n",
       "      <td>0.10000</td>\n",
       "      <td>Aberdeen</td>\n",
       "      <td>2165.00000</td>\n",
       "      <td>230.90069</td>\n",
       "    </tr>\n",
       "  </tbody>\n",
       "</table>\n",
       "</div>"
      ],
      "text/plain": [
       "     price    size    bath  balcony  acre_lot  location  total_sqft  \\\n",
       "0   149000 3.00000 2.00000        1   1.26000     Abbot  1792.00000   \n",
       "1   425000 4.00000 2.00000        1  91.00000     Abbot  1600.00000   \n",
       "5   425000 4.00000 2.00000        0  91.00000     Abbot  1600.00000   \n",
       "11  495000 3.00000 4.00000        2   0.16000  Aberdeen  2146.00000   \n",
       "13  499900 4.00000 3.00000        1   0.10000  Aberdeen  2165.00000   \n",
       "\n",
       "    price_per_sqft  \n",
       "0         83.14732  \n",
       "1        265.62500  \n",
       "5        265.62500  \n",
       "11       230.66170  \n",
       "13       230.90069  "
      ]
     },
     "execution_count": 499,
     "metadata": {},
     "output_type": "execute_result"
    }
   ],
   "source": [
    "# calculate price per sq feet \n",
    "df2['price_per_sqft'] = df2['price']/df3['total_sqft']\n",
    "df2.head()  "
   ]
  },
  {
   "cell_type": "code",
   "execution_count": 474,
   "id": "c1b87f61",
   "metadata": {},
   "outputs": [],
   "source": [
    "# calculate number of rows per location\n",
    "location_n = df2.groupby('location')['location'].agg('count').sort_values(ascending=False)"
   ]
  },
  {
   "cell_type": "code",
   "execution_count": 475,
   "id": "b202aba6",
   "metadata": {},
   "outputs": [],
   "source": [
    "# how many locations that have 100 or less rows\n",
    "location_n_le_100 = location_n[location_n <= 100]"
   ]
  },
  {
   "cell_type": "code",
   "execution_count": 476,
   "id": "f15b5f6e",
   "metadata": {},
   "outputs": [],
   "source": [
    "df2.location = df2.location.apply(lambda x: 'other' if x in location_n_le_100 else x)"
   ]
  },
  {
   "cell_type": "code",
   "execution_count": 477,
   "id": "095c53d1",
   "metadata": {},
   "outputs": [],
   "source": [
    "# remove duplicates\n",
    "df3 = df2.drop_duplicates(keep = 'first')"
   ]
  },
  {
   "cell_type": "markdown",
   "id": "247fa43c",
   "metadata": {},
   "source": [
    "### Summary Statistics"
   ]
  },
  {
   "cell_type": "code",
   "execution_count": 478,
   "id": "b92b4dc0",
   "metadata": {},
   "outputs": [
    {
     "data": {
      "text/html": [
       "<div>\n",
       "<style scoped>\n",
       "    .dataframe tbody tr th:only-of-type {\n",
       "        vertical-align: middle;\n",
       "    }\n",
       "\n",
       "    .dataframe tbody tr th {\n",
       "        vertical-align: top;\n",
       "    }\n",
       "\n",
       "    .dataframe thead th {\n",
       "        text-align: right;\n",
       "    }\n",
       "</style>\n",
       "<table border=\"1\" class=\"dataframe\">\n",
       "  <thead>\n",
       "    <tr style=\"text-align: right;\">\n",
       "      <th></th>\n",
       "      <th>price</th>\n",
       "      <th>size</th>\n",
       "      <th>bath</th>\n",
       "      <th>balcony</th>\n",
       "      <th>acre_lot</th>\n",
       "      <th>total_sqft</th>\n",
       "      <th>price_per_sqft</th>\n",
       "    </tr>\n",
       "  </thead>\n",
       "  <tbody>\n",
       "    <tr>\n",
       "      <th>count</th>\n",
       "      <td>81514.00000</td>\n",
       "      <td>81514.00000</td>\n",
       "      <td>81514.00000</td>\n",
       "      <td>81514.00000</td>\n",
       "      <td>81514.00000</td>\n",
       "      <td>81514.00000</td>\n",
       "      <td>81514.00000</td>\n",
       "    </tr>\n",
       "    <tr>\n",
       "      <th>mean</th>\n",
       "      <td>857942.70101</td>\n",
       "      <td>3.87778</td>\n",
       "      <td>2.81377</td>\n",
       "      <td>1.11863</td>\n",
       "      <td>11.32885</td>\n",
       "      <td>2553.58748</td>\n",
       "      <td>331.30138</td>\n",
       "    </tr>\n",
       "    <tr>\n",
       "      <th>std</th>\n",
       "      <td>1636453.82740</td>\n",
       "      <td>2.12356</td>\n",
       "      <td>2.22321</td>\n",
       "      <td>1.61341</td>\n",
       "      <td>730.34480</td>\n",
       "      <td>5790.28494</td>\n",
       "      <td>319.25804</td>\n",
       "    </tr>\n",
       "    <tr>\n",
       "      <th>min</th>\n",
       "      <td>3900.00000</td>\n",
       "      <td>1.00000</td>\n",
       "      <td>1.00000</td>\n",
       "      <td>0.00000</td>\n",
       "      <td>0.00000</td>\n",
       "      <td>122.00000</td>\n",
       "      <td>1.22454</td>\n",
       "    </tr>\n",
       "    <tr>\n",
       "      <th>25%</th>\n",
       "      <td>299900.00000</td>\n",
       "      <td>3.00000</td>\n",
       "      <td>2.00000</td>\n",
       "      <td>0.00000</td>\n",
       "      <td>0.13000</td>\n",
       "      <td>1368.00000</td>\n",
       "      <td>172.91667</td>\n",
       "    </tr>\n",
       "    <tr>\n",
       "      <th>50%</th>\n",
       "      <td>489000.00000</td>\n",
       "      <td>3.00000</td>\n",
       "      <td>2.00000</td>\n",
       "      <td>1.00000</td>\n",
       "      <td>0.30000</td>\n",
       "      <td>1980.00000</td>\n",
       "      <td>253.60152</td>\n",
       "    </tr>\n",
       "    <tr>\n",
       "      <th>75%</th>\n",
       "      <td>825000.00000</td>\n",
       "      <td>4.00000</td>\n",
       "      <td>3.00000</td>\n",
       "      <td>2.00000</td>\n",
       "      <td>0.98000</td>\n",
       "      <td>2908.75000</td>\n",
       "      <td>375.38396</td>\n",
       "    </tr>\n",
       "    <tr>\n",
       "      <th>max</th>\n",
       "      <td>100000000.00000</td>\n",
       "      <td>99.00000</td>\n",
       "      <td>198.00000</td>\n",
       "      <td>99.00000</td>\n",
       "      <td>100000.00000</td>\n",
       "      <td>1450112.00000</td>\n",
       "      <td>9807.25624</td>\n",
       "    </tr>\n",
       "  </tbody>\n",
       "</table>\n",
       "</div>"
      ],
      "text/plain": [
       "                price        size        bath     balcony     acre_lot  \\\n",
       "count     81514.00000 81514.00000 81514.00000 81514.00000  81514.00000   \n",
       "mean     857942.70101     3.87778     2.81377     1.11863     11.32885   \n",
       "std     1636453.82740     2.12356     2.22321     1.61341    730.34480   \n",
       "min        3900.00000     1.00000     1.00000     0.00000      0.00000   \n",
       "25%      299900.00000     3.00000     2.00000     0.00000      0.13000   \n",
       "50%      489000.00000     3.00000     2.00000     1.00000      0.30000   \n",
       "75%      825000.00000     4.00000     3.00000     2.00000      0.98000   \n",
       "max   100000000.00000    99.00000   198.00000    99.00000 100000.00000   \n",
       "\n",
       "         total_sqft  price_per_sqft  \n",
       "count   81514.00000     81514.00000  \n",
       "mean     2553.58748       331.30138  \n",
       "std      5790.28494       319.25804  \n",
       "min       122.00000         1.22454  \n",
       "25%      1368.00000       172.91667  \n",
       "50%      1980.00000       253.60152  \n",
       "75%      2908.75000       375.38396  \n",
       "max   1450112.00000      9807.25624  "
      ]
     },
     "execution_count": 478,
     "metadata": {},
     "output_type": "execute_result"
    }
   ],
   "source": [
    "df3.describe()"
   ]
  },
  {
   "cell_type": "code",
   "execution_count": 392,
   "id": "4711118e",
   "metadata": {},
   "outputs": [],
   "source": [
    "def remove_outliers(dat, col):\n",
    "    sum_stats = pd.DataFrame(dat.describe())\n",
    "    mean = sum_stats.loc['mean', col]\n",
    "    sd = sum_stats.loc['std', col]\n",
    "    new_dat = dat[~((dat[col] >= mean+3*sd) | (dat[col] <= mean-3*sd))]\n",
    "    return new_dat"
   ]
  },
  {
   "cell_type": "code",
   "execution_count": 433,
   "id": "d620d2f4",
   "metadata": {},
   "outputs": [],
   "source": [
    "df4 = remove_outliers(df3, 'price_per_sqft')"
   ]
  },
  {
   "cell_type": "code",
   "execution_count": 435,
   "id": "d78be960",
   "metadata": {
    "scrolled": true
   },
   "outputs": [],
   "source": [
    "def price_per_sqft_recode(x):\n",
    "    if x >= 1000:\n",
    "        return 1000\n",
    "    elif x <= 999 and x >= 331.301382:\n",
    "        return 330\n",
    "    elif x >= 100 and x <331.301382:\n",
    "        return 100\n",
    "    else:\n",
    "        return 50\n",
    "\n",
    "    \n",
    "def recode(x):\n",
    "    if x >= 1000:\n",
    "        return '>=1000'\n",
    "    elif x <= 999 and x >= 331.301382:\n",
    "        return '330-999'\n",
    "    elif x >= 100 and x < 331.301382:\n",
    "        return '100-329'\n",
    "    else:\n",
    "        return '<=99'\n",
    "    \n",
    "df4['price_sqft_cat']= df4['price_per_sqft'].apply(price_per_sqft_recode)\n",
    "df4['price_sqft_cat2'] = df4['price_per_sqft'].apply(recode)"
   ]
  },
  {
   "cell_type": "markdown",
   "id": "2a30dac6",
   "metadata": {},
   "source": [
    "### Bar Chart \n",
    "This bar chart illustrates the distribution of homes based on price per square foot. As can be seen, most homes cost less than 329 dollars per square foot, and a quarter of the homes cost between 330 and 1000 dollars per square foot. "
   ]
  },
  {
   "cell_type": "code",
   "execution_count": 479,
   "id": "5d8d36c8",
   "metadata": {},
   "outputs": [
    {
     "data": {
      "image/png": "[encoded data removed]",
      "text/plain": [
       "<Figure size 1080x720 with 1 Axes>"
      ]
     },
     "metadata": {},
     "output_type": "display_data"
    }
   ],
   "source": [
    "plt.style.use('fivethirtyeight')\n",
    "slices = [2545,22702, 47165, 6734]\n",
    "labels=[\">$1000\", \"$1000-330\", \"$329-100\", \"<$100\"]\n",
    "explode = [0, 0, 0.05, 0]\n",
    "plt.pie(slices, labels=labels, \n",
    "        wedgeprops={'edgecolor':'black'}, explode=explode, autopct='%1.1f%%', shadow=True, startangle=90)\n",
    "plt.title('Price per square feet distribution')\n",
    "plt.tight_layout()\n",
    "plt.show()"
   ]
  },
  {
   "cell_type": "markdown",
   "id": "e45ecd1e",
   "metadata": {},
   "source": [
    "### Histogram\n",
    "This histogram provides an alternative view of the distribution of homes based on price per square foot.  As can be seen, price per square foot is not normally distributed because most homes are clustered around the lower end of the scale.  This is consistent with the insight from the bar chart. "
   ]
  },
  {
   "cell_type": "code",
   "execution_count": 480,
   "id": "613b92fd",
   "metadata": {
    "scrolled": false
   },
   "outputs": [
    {
     "data": {
      "text/plain": [
       "(array([ 596., 1232., 2291., 3207., 3769., 4853., 3694., 2702., 1937.,\n",
       "        1617., 1305., 1067.,  908.,  737.,  606.,  523.,  498.,  340.,\n",
       "         367.]),\n",
       " array([  50,  100,  150,  200,  250,  300,  350,  400,  450,  500,  550,\n",
       "         600,  650,  700,  750,  800,  850,  900,  950, 1000]),\n",
       " <BarContainer object of 19 artists>)"
      ]
     },
     "execution_count": 480,
     "metadata": {},
     "output_type": "execute_result"
    },
    {
     "data": {
      "image/png": "[encoded data removed]",
      "text/plain": [
       "<Figure size 1080x720 with 1 Axes>"
      ]
     },
     "metadata": {},
     "output_type": "display_data"
    }
   ],
   "source": [
    "bins=[50, 100, 150, 200, 250, 300, 350, 400, 450, 500, 550, 600, 650, 700, 750, 800, 850, 900, 950, 1000]\n",
    "plt.title('Price per squre foot distribution')\n",
    "plt.xlabel(\"Price per square foot\")\n",
    "plt.ylabel(\"Count\")\n",
    "plt.hist(df6.price_per_sqft, bins=bins, edgecolor='black', rwidth=0.8)"
   ]
  },
  {
   "cell_type": "code",
   "execution_count": 436,
   "id": "f35078a9",
   "metadata": {},
   "outputs": [],
   "source": [
    "# plot two bedrom and three bedroom's total_square_feet against price_per_sqft\n",
    "def custom_scatter(df, location):\n",
    "    bdrm2 = df.loc[(df['location']==location) & (df['size']==2)]\n",
    "    bdrm3 = df.loc[(df['location']==location) & (df['size']==3)]\n",
    "    matplotlib.rcParams['figure.figsize'] = (15,10)\n",
    "    plt.scatter(bdrm2.total_sqft,bdrm2.price, color='firebrick',label='2 Bedroom', s=50)\n",
    "    plt.scatter(bdrm3.total_sqft,bdrm3.price, marker='*', color='black',label='3 Bedroom', s=50)\n",
    "    plt.xlabel(\"Square Foot\")\n",
    "    plt.ylabel(\"Price\")\n",
    "    plt.title(location)\n",
    "    plt.legend()\n",
    "    plt.show()"
   ]
  },
  {
   "cell_type": "code",
   "execution_count": 437,
   "id": "023ee8d1",
   "metadata": {},
   "outputs": [],
   "source": [
    "import ipywidgets as widgets\n",
    "from ipywidgets import interact, interactive, fixed, interact_manual"
   ]
  },
  {
   "cell_type": "markdown",
   "id": "650716a6",
   "metadata": {},
   "source": [
    "### Interactive Scatterplot \n",
    "This interactive scatterplot provides an in-depth look at the relationship between square footage and price at the city level.  Please select a city from the drop-down menu below to see the relationship between square foot and price for that city. "
   ]
  },
  {
   "cell_type": "code",
   "execution_count": 481,
   "id": "3b098627",
   "metadata": {
    "scrolled": false
   },
   "outputs": [
    {
     "data": {
      "application/vnd.jupyter.widget-view+json": {
       "model_id": "d90a751d2e1d4173bb2396167c07a907",
       "version_major": 2,
       "version_minor": 0
      },
      "text/plain": [
       "interactive(children=(Dropdown(description='location', options=('New York City', 'Boston', 'Providence', 'Hart…"
      ]
     },
     "metadata": {},
     "output_type": "display_data"
    },
    {
     "data": {
      "text/plain": [
       "<function __main__.custom_scatter(df, location)>"
      ]
     },
     "execution_count": 481,
     "metadata": {},
     "output_type": "execute_result"
    }
   ],
   "source": [
    "interact(custom_scatter, df=fixed(df4), \n",
    "         location=['New York City', 'Boston', 'Providence', 'Hartford', 'Warwick', 'Manchester'])"
   ]
  },
  {
   "cell_type": "code",
   "execution_count": 439,
   "id": "a481791a",
   "metadata": {},
   "outputs": [],
   "source": [
    "# this function remove outliers in bedroom - remove entries where \n",
    "# a 3 bedroom house is less than the mean price of 2 bedroom house\n",
    "def remove_other_outliers(df, var):\n",
    "    exclude_indices = np.array([])\n",
    "    for loc, sub in df.groupby('location'):\n",
    "        size_stats = {}\n",
    "        for bdrm, bdrm_df in sub.groupby(var):\n",
    "            size_stats[bdrm] = {\n",
    "                'mean': np.mean(bdrm_df.price_per_sqft),\n",
    "                'std': np.std(bdrm_df.price_per_sqft),\n",
    "                'count': bdrm_df.shape[0]\n",
    "            }\n",
    "        for bdrm, bdrm_df in sub.groupby(var):\n",
    "            stats = size_stats.get(bdrm-1)\n",
    "            if stats and stats['count']>5:\n",
    "                exclude_indices = np.append(exclude_indices, \n",
    "                                            bdrm_df[bdrm_df.price_per_sqft<(stats['mean'])].index.values)\n",
    "    return df.drop(exclude_indices,axis='index')"
   ]
  },
  {
   "cell_type": "code",
   "execution_count": 482,
   "id": "6894881c",
   "metadata": {},
   "outputs": [],
   "source": [
    "df5 = remove_other_outliers(df4, 'size')"
   ]
  },
  {
   "cell_type": "markdown",
   "id": "f5647ebb",
   "metadata": {},
   "source": [
    "### Histogram 1\n",
    "This histogram shows the distribution of number of bathrooms. As can be seen, most home have 2 to 5 bathrooms.  Only a tiny percentage of homes have 10 or more bathrooms. "
   ]
  },
  {
   "cell_type": "code",
   "execution_count": 483,
   "id": "4a50cabf",
   "metadata": {},
   "outputs": [
    {
     "data": {
      "text/plain": [
       "Text(0, 0.5, 'Count')"
      ]
     },
     "execution_count": 483,
     "metadata": {},
     "output_type": "execute_result"
    },
    {
     "data": {
      "image/png": "[encoded data removed]",
      "text/plain": [
       "<Figure size 1080x720 with 1 Axes>"
      ]
     },
     "metadata": {},
     "output_type": "display_data"
    }
   ],
   "source": [
    "bins=[2, 3, 4, 6, 8, 10, 20]\n",
    "plt.hist(df7.bath, rwidth=0.8, bins=bins)\n",
    "plt.xlabel('Number of bathrooms')\n",
    "plt.ylabel('Count')"
   ]
  },
  {
   "cell_type": "code",
   "execution_count": 486,
   "id": "6a5fdacc",
   "metadata": {},
   "outputs": [],
   "source": [
    "dummies = pd.get_dummies(df5.location)\n",
    "df7 = pd.concat([df5, dummies.drop(['other'], axis='columns')], \n",
    "                 axis='columns')"
   ]
  },
  {
   "cell_type": "code",
   "execution_count": 485,
   "id": "24712e85",
   "metadata": {
    "scrolled": true
   },
   "outputs": [],
   "source": [
    "df8 = df7.drop(['location', 'price_per_sqft', 'price_sqft_cat', 'price_sqft_cat2'], axis='columns')"
   ]
  },
  {
   "cell_type": "markdown",
   "id": "ec3ae676",
   "metadata": {},
   "source": [
    "### Histogram 2\n",
    "This histogram shows the distribution of lot acreage.  As can be seen most homes have less than 10 acres of lot. The higher the lot acreage, the less often it appears. Homes that have 300 acres or more belong to the minority group. "
   ]
  },
  {
   "cell_type": "code",
   "execution_count": 487,
   "id": "c8507e58",
   "metadata": {
    "scrolled": false
   },
   "outputs": [
    {
     "data": {
      "text/plain": [
       "Text(0.5, 0, 'Acre Lot Size')"
      ]
     },
     "execution_count": 487,
     "metadata": {},
     "output_type": "execute_result"
    },
    {
     "data": {
      "image/png": "[encoded data removed]",
      "text/plain": [
       "<Figure size 1080x720 with 1 Axes>"
      ]
     },
     "metadata": {},
     "output_type": "display_data"
    }
   ],
   "source": [
    "plt.hist(df10.acre_lot,  rwidth=0.8, bins=[10, 20, 30, 50, 100, 200, 300, 400, 500])\n",
    "plt.xlabel(\"Acre Lot Size\")"
   ]
  },
  {
   "cell_type": "code",
   "execution_count": 488,
   "id": "69f35b6b",
   "metadata": {},
   "outputs": [],
   "source": [
    "df10 = df8.dropna()"
   ]
  },
  {
   "cell_type": "code",
   "execution_count": 489,
   "id": "df44ae74",
   "metadata": {},
   "outputs": [],
   "source": [
    "# remove price the outcome variable, retain only independent variables\n",
    "IV = df10.drop('price', axis='columns')\n",
    "DV = df10.price"
   ]
  },
  {
   "cell_type": "markdown",
   "id": "5cb2eccc",
   "metadata": {},
   "source": [
    "# Prediction Model"
   ]
  },
  {
   "cell_type": "markdown",
   "id": "07293b78",
   "metadata": {},
   "source": [
    "The dataset was split using 80/20 split. The model is first trained on 80% random sample of the data.  Then the K-fold cross-validation was conducted to determine the validty of the tested model.  Finally, linear regression is compared against Lasso regression and decision tree regression. The linear regression was chosen due to its superior scores and overall fit of the subject. "
   ]
  },
  {
   "cell_type": "code",
   "execution_count": 490,
   "id": "27d70a38",
   "metadata": {},
   "outputs": [],
   "source": [
    "from sklearn.model_selection import train_test_split\n",
    "IV_train,IV_test, DV_train, DV_test = train_test_split(IV, DV, test_size=0.2, random_state=30)"
   ]
  },
  {
   "cell_type": "code",
   "execution_count": 491,
   "id": "4cd6d298",
   "metadata": {},
   "outputs": [
    {
     "data": {
      "text/plain": [
       "0.7089429659043417"
      ]
     },
     "execution_count": 491,
     "metadata": {},
     "output_type": "execute_result"
    }
   ],
   "source": [
    "from sklearn.linear_model import LinearRegression\n",
    "lr = LinearRegression()\n",
    "# model is trained\n",
    "lr.fit(IV_train, DV_train);\n",
    "# evaluate the scores of the model\n",
    "lr.score(IV_test, DV_test);"
   ]
  },
  {
   "cell_type": "code",
   "execution_count": 492,
   "id": "eb9a27c5",
   "metadata": {},
   "outputs": [],
   "source": [
    "# this following code was commented out for speed considerations, but could be uncommented to validate code\n",
    "\n",
    "# from sklearn.model_selection import ShuffleSplit\n",
    "# from sklearn.model_selection import cross_val_score\n",
    "# cv = ShuffleSplit(n_splits=5, test_size=0.2, random_state=30)\n",
    "# cross_val_score(LinearRegression(), IV, DV, cv=cv)"
   ]
  },
  {
   "cell_type": "code",
   "execution_count": 454,
   "id": "c0bd20b5",
   "metadata": {},
   "outputs": [
    {
     "data": {
      "text/html": [
       "<div>\n",
       "<style scoped>\n",
       "    .dataframe tbody tr th:only-of-type {\n",
       "        vertical-align: middle;\n",
       "    }\n",
       "\n",
       "    .dataframe tbody tr th {\n",
       "        vertical-align: top;\n",
       "    }\n",
       "\n",
       "    .dataframe thead th {\n",
       "        text-align: right;\n",
       "    }\n",
       "</style>\n",
       "<table border=\"1\" class=\"dataframe\">\n",
       "  <thead>\n",
       "    <tr style=\"text-align: right;\">\n",
       "      <th></th>\n",
       "      <th>model</th>\n",
       "      <th>best_score</th>\n",
       "      <th>best_params</th>\n",
       "    </tr>\n",
       "  </thead>\n",
       "  <tbody>\n",
       "    <tr>\n",
       "      <th>0</th>\n",
       "      <td>linear_regression</td>\n",
       "      <td>0.65692</td>\n",
       "      <td>{}</td>\n",
       "    </tr>\n",
       "    <tr>\n",
       "      <th>1</th>\n",
       "      <td>lasso</td>\n",
       "      <td>0.65692</td>\n",
       "      <td>{'alpha': 1, 'selection': 'random'}</td>\n",
       "    </tr>\n",
       "  </tbody>\n",
       "</table>\n",
       "</div>"
      ],
      "text/plain": [
       "               model  best_score                          best_params\n",
       "0  linear_regression     0.65692                                   {}\n",
       "1              lasso     0.65692  {'alpha': 1, 'selection': 'random'}"
      ]
     },
     "execution_count": 454,
     "metadata": {},
     "output_type": "execute_result"
    }
   ],
   "source": [
    "# this following code was commented out for speed considerations, but could be uncommented to validate code\n",
    "\n",
    "# from sklearn.model_selection import GridSearchCV\n",
    "# from sklearn.linear_model import Lasso\n",
    "# from sklearn.pipeline import make_pipeline\n",
    "# from sklearn.preprocessing import StandardScaler\n",
    "\n",
    "# model = make_pipeline(StandardScaler(with_mean=False), LinearRegression())\n",
    "\n",
    "# def find_best_model(X,y):\n",
    "#     algos = {\n",
    "#         'linear_regression' : {\n",
    "#             'model': model,\n",
    "#             'params': {\n",
    "#             }\n",
    "#         },\n",
    "#         'lasso': {\n",
    "#             'model': Lasso(),\n",
    "#             'params': {\n",
    "#                 'alpha': [1,2],\n",
    "#                 'selection': ['random', 'cyclic']\n",
    "#             }\n",
    "#         }\n",
    " \n",
    "#     }\n",
    "#     scores = []\n",
    "#     cv = ShuffleSplit(n_splits=5, test_size=0.2, random_state=0)\n",
    "#     for algo_name, config in algos.items():\n",
    "#         gs =  GridSearchCV(config['model'], config['params'], cv=cv, return_train_score=False)\n",
    "#         gs.fit(X,y)\n",
    "#         scores.append({\n",
    "#             'model': algo_name,\n",
    "#             'best_score': gs.best_score_,\n",
    "#             'best_params': gs.best_params_\n",
    "#         })\n",
    "\n",
    "#     return pd.DataFrame(scores,columns=['model','best_score','best_params'])\n",
    "\n",
    "# find_best_model(IV,DV)"
   ]
  },
  {
   "cell_type": "code",
   "execution_count": 493,
   "id": "ee889f00",
   "metadata": {},
   "outputs": [],
   "source": [
    "def predict_price(location, sqft, bath, bedroom, balcony, acre_lot):\n",
    "    loc_index = np.where(IV.columns==location)[0][0]\n",
    "    \n",
    "    x = np.zeros(len(IV.columns))\n",
    "    x[0] = bedroom\n",
    "    x[1] = bath\n",
    "    x[2] = balcony\n",
    "    x[3] = acre_lot\n",
    "    x[4] = sqft\n",
    "    if loc_index >= 0:\n",
    "        x[loc_index] = 1\n",
    "    \n",
    "    return lr.predict([x])[0]"
   ]
  },
  {
   "cell_type": "markdown",
   "id": "4002debb",
   "metadata": {},
   "source": [
    "## Price Prediction Model\n",
    "Modify the following parameters and then click on 'Predict Home Prices' to obtain a price estimate"
   ]
  },
  {
   "cell_type": "code",
   "execution_count": 494,
   "id": "c40e29b5",
   "metadata": {},
   "outputs": [
    {
     "data": {
      "application/vnd.jupyter.widget-view+json": {
       "model_id": "0236919d6e014b96a6fc5182d367e274",
       "version_major": 2,
       "version_minor": 0
      },
      "text/plain": [
       "interactive(children=(Dropdown(description='location', options=('Boston', 'New York City', 'Providence', 'Wate…"
      ]
     },
     "metadata": {},
     "output_type": "display_data"
    },
    {
     "data": {
      "text/plain": [
       "<function __main__.predict_price(location, sqft, bath, bedroom, balcony, acre_lot)>"
      ]
     },
     "execution_count": 494,
     "metadata": {},
     "output_type": "execute_result"
    }
   ],
   "source": [
    "\n",
    "my_interact_manual = interact_manual.options(manual_name=\"Predict Home Prices\")\n",
    "\n",
    "my_interact_manual(predict_price, location=['Boston', 'New York City', 'Providence', 'Waterbury', 'Warwick', 'Manchester', \n",
    "                                  'Bridgeport', 'Hartford', 'Springfield', 'Bristol', 'Cranston', 'Newton', \n",
    "                                 'Worcester', 'Pittsfield', 'San Juan', 'West Hartford'], \n",
    "                    bedroom=widgets.IntSlider(min=1, max=9, step=1, value=2), \n",
    "                    sqft=widgets.IntSlider(min=300, max=40720, step=100, value=4000), \n",
    "                    bath=widgets.IntSlider(min=1, max=9, step=1, value=2), \n",
    "                   acre_lot=widgets.IntSlider(min=0, max=9999, step=100, value=2), \n",
    "                   balcony=widgets.IntSlider(min=0, max=99, step=1, value=2))"
   ]
  },
  {
   "cell_type": "markdown",
   "id": "acd5e3b0",
   "metadata": {},
   "source": [
    "## Accuracy of the Model"
   ]
  },
  {
   "cell_type": "markdown",
   "id": "5ccf5b1f",
   "metadata": {},
   "source": [
    "$R^2$ measures how much variation can be explained by the model. The higher, the better. "
   ]
  },
  {
   "cell_type": "code",
   "execution_count": 495,
   "id": "6fe47bdc",
   "metadata": {},
   "outputs": [
    {
     "name": "stdout",
     "output_type": "stream",
     "text": [
      "R-Square: 0.7089429659043417\n"
     ]
    }
   ],
   "source": [
    "from sklearn.metrics import r2_score\n",
    "lm = lr.fit(IV_train, DV_train)\n",
    "DV_pred = lm.predict(IV_test)\n",
    "print('R-Square:', r2_score(DV_test, DV_pred))"
   ]
  },
  {
   "cell_type": "markdown",
   "id": "61596e5d",
   "metadata": {},
   "source": [
    "The closer the normalized RMSE is to zero, the more accurate the model"
   ]
  },
  {
   "cell_type": "code",
   "execution_count": 496,
   "id": "c0cee83a",
   "metadata": {},
   "outputs": [
    {
     "name": "stdout",
     "output_type": "stream",
     "text": [
      "normalized RMSE 0.03131322679911365\n"
     ]
    }
   ],
   "source": [
    "from sklearn.metrics import mean_squared_error as MSE\n",
    "mse_dt = MSE(DV_test, DV_pred)\n",
    "rmse_dt = mse_dt **(1/2)\n",
    "print('normalized RMSE', rmse_dt/(max(DV_test)-min(DV_test)))"
   ]
  }
 ],
 "metadata": {
  "kernelspec": {
   "display_name": "Python 3",
   "language": "python",
   "name": "python3"
  },
  "language_info": {
   "codemirror_mode": {
    "name": "ipython",
    "version": 3
   },
   "file_extension": ".py",
   "mimetype": "text/x-python",
   "name": "python",
   "nbconvert_exporter": "python",
   "pygments_lexer": "ipython3",
   "version": "3.9.1"
  },
  "toc": {
   "base_numbering": 1,
   "nav_menu": {},
   "number_sections": true,
   "sideBar": true,
   "skip_h1_title": false,
   "title_cell": "Table of Contents",
   "title_sidebar": "Contents",
   "toc_cell": false,
   "toc_position": {},
   "toc_section_display": true,
   "toc_window_display": false
  }
 },
 "nbformat": 4,
 "nbformat_minor": 5
}
